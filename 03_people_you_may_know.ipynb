{
 "cells": [
  {
   "cell_type": "code",
   "execution_count": 19,
   "id": "49125dcd-9844-4dfa-a666-9b86d4ac625f",
   "metadata": {},
   "outputs": [
    {
     "name": "stdout",
     "output_type": "stream",
     "text": [
      "People You May Know for User 2: [3]\n"
     ]
    }
   ],
   "source": [
    "import json\n",
    "\n",
    "def load_data(filename):\n",
    "    with open(filename, \"r\") as file:\n",
    "        return json.load(file)\n",
    "\n",
    "def find_people_you_may_know(user_id, data):\n",
    "    user_friends = {}\n",
    "    for user in data[\"users\"]:\n",
    "        user_friends[user[\"id\"]] = set(user[\"friends\"])\n",
    "    \n",
    "    if user_id not in user_friends:\n",
    "        return []\n",
    "    \n",
    "    direct_friends = user_friends[user_id]\n",
    "    suggestions = {}\n",
    "    \n",
    "    for friend in direct_friends:\n",
    "        # For all friends of friend\n",
    "        for mutual in user_friends[friend]:\n",
    "            # If mutual id is not the same user and not already a direct friend of user\n",
    "            if mutual != user_id and mutual not in direct_friends:\n",
    "                # Count mutual friends\n",
    "                suggestions[mutual] = suggestions.get(mutual, 0) + 1\n",
    "    \n",
    "    sorted_suggestions = sorted(suggestions.items(), key=lambda x: x[1], reverse=True)\n",
    "    return [user_id for user_id, _ in sorted_suggestions]\n",
    "\n",
    "# Load data\n",
    "data = load_data(\"data1.json\")\n",
    "user_id = 2  # Example: Finding suggestions for Amit\n",
    "recommendations = find_people_you_may_know(user_id, data)\n",
    "print(f\"People You May Know for User {user_id}: {recommendations}\")"
   ]
  },
  {
   "cell_type": "code",
   "execution_count": 18,
   "id": "79613c59-511f-472a-9276-ff0c181f1f1b",
   "metadata": {},
   "outputs": [
    {
     "data": {
      "text/plain": [
       "{'users': [{'id': 1, 'name': 'Amit', 'friends': [2, 3], 'liked_pages': [101]},\n",
       "  {'id': 2, 'name': 'Priya', 'friends': [1, 4], 'liked_pages': [102]},\n",
       "  {'id': 3, 'name': 'Rahul', 'friends': [1], 'liked_pages': [101, 103]},\n",
       "  {'id': 4, 'name': 'Sara', 'friends': [2], 'liked_pages': [104]}],\n",
       " 'pages': [{'id': 101, 'name': 'Python Developers'},\n",
       "  {'id': 102, 'name': 'Data Science Enthusiasts'},\n",
       "  {'id': 103, 'name': 'AI & ML Community'},\n",
       "  {'id': 104, 'name': 'Web Dev Hub'}]}"
      ]
     },
     "execution_count": 18,
     "metadata": {},
     "output_type": "execute_result"
    }
   ],
   "source": [
    "data"
   ]
  },
  {
   "cell_type": "code",
   "execution_count": null,
   "id": "655215aa-e917-4bdc-9a69-767b64f5a239",
   "metadata": {},
   "outputs": [],
   "source": []
  }
 ],
 "metadata": {
  "kernelspec": {
   "display_name": "Python [conda env:base] *",
   "language": "python",
   "name": "conda-base-py"
  },
  "language_info": {
   "codemirror_mode": {
    "name": "ipython",
    "version": 3
   },
   "file_extension": ".py",
   "mimetype": "text/x-python",
   "name": "python",
   "nbconvert_exporter": "python",
   "pygments_lexer": "ipython3",
   "version": "3.12.7"
  }
 },
 "nbformat": 4,
 "nbformat_minor": 5
}
