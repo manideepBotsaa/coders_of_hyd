{
 "cells": [
  {
   "cell_type": "code",
   "execution_count": 8,
   "id": "4562fd2e-7010-428c-a5f6-af7067a029a5",
   "metadata": {},
   "outputs": [
    {
     "name": "stdout",
     "output_type": "stream",
     "text": [
      "data has been cleaned successfully\n"
     ]
    }
   ],
   "source": [
    "import json \n",
    "def clean_data(data):\n",
    "    data[\"users\"]=[user for user in data[\"users\"] if user[\"name\"].strip()]\n",
    "    # remove duplicate data\n",
    "    for user in data[\"users\"]:\n",
    "        user[\"friends\"]=list(set(user[\"friends\"]))\n",
    "    #remove inactive users\n",
    "    data[\"users\"]=[user for user in data['users'] if user['friends'] or  user['liked_pages']] \n",
    "    #remove duplicate pages\n",
    "    unique_pages={}\n",
    "    for page in data['pages']:\n",
    "        unique_pages[page['id']]=page\n",
    "        data['pages']=list(unique_pages.values())\n",
    "    \n",
    "    return data\n",
    "\n",
    "\n",
    "\n",
    "\n",
    "\n",
    "\n",
    "\n",
    "\n",
    "#load the data\n",
    "data=json.load(open(\"data2.json\"))\n",
    "data=clean_data(data)\n",
    "json.dump(data,open(\"cleaned_data2.json\",\"w\"),indent=4)\n",
    "print(\"data has been cleaned successfully\")"
   ]
  },
  {
   "cell_type": "code",
   "execution_count": null,
   "id": "ad77bd50-5345-4024-afe1-681762fdda5a",
   "metadata": {},
   "outputs": [],
   "source": []
  }
 ],
 "metadata": {
  "kernelspec": {
   "display_name": "Python [conda env:base] *",
   "language": "python",
   "name": "conda-base-py"
  },
  "language_info": {
   "codemirror_mode": {
    "name": "ipython",
    "version": 3
   },
   "file_extension": ".py",
   "mimetype": "text/x-python",
   "name": "python",
   "nbconvert_exporter": "python",
   "pygments_lexer": "ipython3",
   "version": "3.12.7"
  }
 },
 "nbformat": 4,
 "nbformat_minor": 5
}
